{
 "cells": [
  {
   "cell_type": "code",
   "execution_count": 2,
   "metadata": {},
   "outputs": [
    {
     "data": {
      "text/html": [
       "        <script type=\"text/javascript\">\n",
       "        window.PlotlyConfig = {MathJaxConfig: 'local'};\n",
       "        if (window.MathJax) {MathJax.Hub.Config({SVG: {font: \"STIX-Web\"}});}\n",
       "        if (typeof require !== 'undefined') {\n",
       "        require.undef(\"plotly\");\n",
       "        requirejs.config({\n",
       "            paths: {\n",
       "                'plotly': ['https://cdn.plot.ly/plotly-latest.min']\n",
       "            }\n",
       "        });\n",
       "        require(['plotly'], function(Plotly) {\n",
       "            window._Plotly = Plotly;\n",
       "        });\n",
       "        }\n",
       "        </script>\n",
       "        "
      ]
     },
     "metadata": {},
     "output_type": "display_data"
    },
    {
     "data": {
      "text/html": [
       "        <script type=\"text/javascript\">\n",
       "        window.PlotlyConfig = {MathJaxConfig: 'local'};\n",
       "        if (window.MathJax) {MathJax.Hub.Config({SVG: {font: \"STIX-Web\"}});}\n",
       "        if (typeof require !== 'undefined') {\n",
       "        require.undef(\"plotly\");\n",
       "        requirejs.config({\n",
       "            paths: {\n",
       "                'plotly': ['https://cdn.plot.ly/plotly-latest.min']\n",
       "            }\n",
       "        });\n",
       "        require(['plotly'], function(Plotly) {\n",
       "            window._Plotly = Plotly;\n",
       "        });\n",
       "        }\n",
       "        </script>\n",
       "        "
      ]
     },
     "metadata": {},
     "output_type": "display_data"
    }
   ],
   "source": [
    "import pandas as pd\n",
    "import numpy as np\n",
    "import matplotlib.pyplot as plt\n",
    "from matplotlib import style\n",
    "style.use('ggplot')\n",
    "%matplotlib inline\n",
    "\n",
    "import plotly\n",
    "import plotly.express as px\n",
    "import plotly.graph_objects as go \n",
    "import plotly.offline as pyo\n",
    "import cufflinks as cf\n",
    "from plotly.offline import download_plotlyjs,init_notebook_mode, plot, iplot\n",
    "plt.rcParams['figure.figsize'] = 25, 12\n",
    "import folium\n",
    "#notebook mode for work offline\n",
    "pyo.init_notebook_mode(connected = True)\n",
    "cf.go_offline()\n",
    "\n",
    "import warnings\n",
    "warnings.filterwarnings('ignore')"
   ]
  },
  {
   "cell_type": "code",
   "execution_count": 3,
   "metadata": {
    "scrolled": true
   },
   "outputs": [
    {
     "ename": "FileNotFoundError",
     "evalue": "[Errno 2] No such file or directory: 'C:\\\\Python\\\\Project\\\\Covid-19\\\\Covid cases in India.xlsx'",
     "output_type": "error",
     "traceback": [
      "\u001b[1;31m---------------------------------------------------------------------------\u001b[0m",
      "\u001b[1;31mFileNotFoundError\u001b[0m                         Traceback (most recent call last)",
      "\u001b[1;32m<ipython-input-3-bb61bf96ecd9>\u001b[0m in \u001b[0;36m<module>\u001b[1;34m\u001b[0m\n\u001b[1;32m----> 1\u001b[1;33m \u001b[0mdf\u001b[0m\u001b[1;33m=\u001b[0m \u001b[0mpd\u001b[0m\u001b[1;33m.\u001b[0m\u001b[0mread_excel\u001b[0m\u001b[1;33m(\u001b[0m\u001b[1;34mr\"C:\\Python\\Project\\Covid-19\\Covid cases in India.xlsx\"\u001b[0m\u001b[1;33m)\u001b[0m\u001b[1;33m\u001b[0m\u001b[1;33m\u001b[0m\u001b[0m\n\u001b[0m",
      "\u001b[1;32m~\\anaconda3\\lib\\site-packages\\pandas\\io\\excel\\_base.py\u001b[0m in \u001b[0;36mread_excel\u001b[1;34m(io, sheet_name, header, names, index_col, usecols, squeeze, dtype, engine, converters, true_values, false_values, skiprows, nrows, na_values, keep_default_na, verbose, parse_dates, date_parser, thousands, comment, skipfooter, convert_float, mangle_dupe_cols, **kwds)\u001b[0m\n\u001b[0;32m    302\u001b[0m \u001b[1;33m\u001b[0m\u001b[0m\n\u001b[0;32m    303\u001b[0m     \u001b[1;32mif\u001b[0m \u001b[1;32mnot\u001b[0m \u001b[0misinstance\u001b[0m\u001b[1;33m(\u001b[0m\u001b[0mio\u001b[0m\u001b[1;33m,\u001b[0m \u001b[0mExcelFile\u001b[0m\u001b[1;33m)\u001b[0m\u001b[1;33m:\u001b[0m\u001b[1;33m\u001b[0m\u001b[1;33m\u001b[0m\u001b[0m\n\u001b[1;32m--> 304\u001b[1;33m         \u001b[0mio\u001b[0m \u001b[1;33m=\u001b[0m \u001b[0mExcelFile\u001b[0m\u001b[1;33m(\u001b[0m\u001b[0mio\u001b[0m\u001b[1;33m,\u001b[0m \u001b[0mengine\u001b[0m\u001b[1;33m=\u001b[0m\u001b[0mengine\u001b[0m\u001b[1;33m)\u001b[0m\u001b[1;33m\u001b[0m\u001b[1;33m\u001b[0m\u001b[0m\n\u001b[0m\u001b[0;32m    305\u001b[0m     \u001b[1;32melif\u001b[0m \u001b[0mengine\u001b[0m \u001b[1;32mand\u001b[0m \u001b[0mengine\u001b[0m \u001b[1;33m!=\u001b[0m \u001b[0mio\u001b[0m\u001b[1;33m.\u001b[0m\u001b[0mengine\u001b[0m\u001b[1;33m:\u001b[0m\u001b[1;33m\u001b[0m\u001b[1;33m\u001b[0m\u001b[0m\n\u001b[0;32m    306\u001b[0m         raise ValueError(\n",
      "\u001b[1;32m~\\anaconda3\\lib\\site-packages\\pandas\\io\\excel\\_base.py\u001b[0m in \u001b[0;36m__init__\u001b[1;34m(self, io, engine)\u001b[0m\n\u001b[0;32m    819\u001b[0m         \u001b[0mself\u001b[0m\u001b[1;33m.\u001b[0m\u001b[0m_io\u001b[0m \u001b[1;33m=\u001b[0m \u001b[0mstringify_path\u001b[0m\u001b[1;33m(\u001b[0m\u001b[0mio\u001b[0m\u001b[1;33m)\u001b[0m\u001b[1;33m\u001b[0m\u001b[1;33m\u001b[0m\u001b[0m\n\u001b[0;32m    820\u001b[0m \u001b[1;33m\u001b[0m\u001b[0m\n\u001b[1;32m--> 821\u001b[1;33m         \u001b[0mself\u001b[0m\u001b[1;33m.\u001b[0m\u001b[0m_reader\u001b[0m \u001b[1;33m=\u001b[0m \u001b[0mself\u001b[0m\u001b[1;33m.\u001b[0m\u001b[0m_engines\u001b[0m\u001b[1;33m[\u001b[0m\u001b[0mengine\u001b[0m\u001b[1;33m]\u001b[0m\u001b[1;33m(\u001b[0m\u001b[0mself\u001b[0m\u001b[1;33m.\u001b[0m\u001b[0m_io\u001b[0m\u001b[1;33m)\u001b[0m\u001b[1;33m\u001b[0m\u001b[1;33m\u001b[0m\u001b[0m\n\u001b[0m\u001b[0;32m    822\u001b[0m \u001b[1;33m\u001b[0m\u001b[0m\n\u001b[0;32m    823\u001b[0m     \u001b[1;32mdef\u001b[0m \u001b[0m__fspath__\u001b[0m\u001b[1;33m(\u001b[0m\u001b[0mself\u001b[0m\u001b[1;33m)\u001b[0m\u001b[1;33m:\u001b[0m\u001b[1;33m\u001b[0m\u001b[1;33m\u001b[0m\u001b[0m\n",
      "\u001b[1;32m~\\anaconda3\\lib\\site-packages\\pandas\\io\\excel\\_xlrd.py\u001b[0m in \u001b[0;36m__init__\u001b[1;34m(self, filepath_or_buffer)\u001b[0m\n\u001b[0;32m     19\u001b[0m         \u001b[0merr_msg\u001b[0m \u001b[1;33m=\u001b[0m \u001b[1;34m\"Install xlrd >= 1.0.0 for Excel support\"\u001b[0m\u001b[1;33m\u001b[0m\u001b[1;33m\u001b[0m\u001b[0m\n\u001b[0;32m     20\u001b[0m         \u001b[0mimport_optional_dependency\u001b[0m\u001b[1;33m(\u001b[0m\u001b[1;34m\"xlrd\"\u001b[0m\u001b[1;33m,\u001b[0m \u001b[0mextra\u001b[0m\u001b[1;33m=\u001b[0m\u001b[0merr_msg\u001b[0m\u001b[1;33m)\u001b[0m\u001b[1;33m\u001b[0m\u001b[1;33m\u001b[0m\u001b[0m\n\u001b[1;32m---> 21\u001b[1;33m         \u001b[0msuper\u001b[0m\u001b[1;33m(\u001b[0m\u001b[1;33m)\u001b[0m\u001b[1;33m.\u001b[0m\u001b[0m__init__\u001b[0m\u001b[1;33m(\u001b[0m\u001b[0mfilepath_or_buffer\u001b[0m\u001b[1;33m)\u001b[0m\u001b[1;33m\u001b[0m\u001b[1;33m\u001b[0m\u001b[0m\n\u001b[0m\u001b[0;32m     22\u001b[0m \u001b[1;33m\u001b[0m\u001b[0m\n\u001b[0;32m     23\u001b[0m     \u001b[1;33m@\u001b[0m\u001b[0mproperty\u001b[0m\u001b[1;33m\u001b[0m\u001b[1;33m\u001b[0m\u001b[0m\n",
      "\u001b[1;32m~\\anaconda3\\lib\\site-packages\\pandas\\io\\excel\\_base.py\u001b[0m in \u001b[0;36m__init__\u001b[1;34m(self, filepath_or_buffer)\u001b[0m\n\u001b[0;32m    351\u001b[0m             \u001b[0mself\u001b[0m\u001b[1;33m.\u001b[0m\u001b[0mbook\u001b[0m \u001b[1;33m=\u001b[0m \u001b[0mself\u001b[0m\u001b[1;33m.\u001b[0m\u001b[0mload_workbook\u001b[0m\u001b[1;33m(\u001b[0m\u001b[0mfilepath_or_buffer\u001b[0m\u001b[1;33m)\u001b[0m\u001b[1;33m\u001b[0m\u001b[1;33m\u001b[0m\u001b[0m\n\u001b[0;32m    352\u001b[0m         \u001b[1;32melif\u001b[0m \u001b[0misinstance\u001b[0m\u001b[1;33m(\u001b[0m\u001b[0mfilepath_or_buffer\u001b[0m\u001b[1;33m,\u001b[0m \u001b[0mstr\u001b[0m\u001b[1;33m)\u001b[0m\u001b[1;33m:\u001b[0m\u001b[1;33m\u001b[0m\u001b[1;33m\u001b[0m\u001b[0m\n\u001b[1;32m--> 353\u001b[1;33m             \u001b[0mself\u001b[0m\u001b[1;33m.\u001b[0m\u001b[0mbook\u001b[0m \u001b[1;33m=\u001b[0m \u001b[0mself\u001b[0m\u001b[1;33m.\u001b[0m\u001b[0mload_workbook\u001b[0m\u001b[1;33m(\u001b[0m\u001b[0mfilepath_or_buffer\u001b[0m\u001b[1;33m)\u001b[0m\u001b[1;33m\u001b[0m\u001b[1;33m\u001b[0m\u001b[0m\n\u001b[0m\u001b[0;32m    354\u001b[0m         \u001b[1;32melif\u001b[0m \u001b[0misinstance\u001b[0m\u001b[1;33m(\u001b[0m\u001b[0mfilepath_or_buffer\u001b[0m\u001b[1;33m,\u001b[0m \u001b[0mbytes\u001b[0m\u001b[1;33m)\u001b[0m\u001b[1;33m:\u001b[0m\u001b[1;33m\u001b[0m\u001b[1;33m\u001b[0m\u001b[0m\n\u001b[0;32m    355\u001b[0m             \u001b[0mself\u001b[0m\u001b[1;33m.\u001b[0m\u001b[0mbook\u001b[0m \u001b[1;33m=\u001b[0m \u001b[0mself\u001b[0m\u001b[1;33m.\u001b[0m\u001b[0mload_workbook\u001b[0m\u001b[1;33m(\u001b[0m\u001b[0mBytesIO\u001b[0m\u001b[1;33m(\u001b[0m\u001b[0mfilepath_or_buffer\u001b[0m\u001b[1;33m)\u001b[0m\u001b[1;33m)\u001b[0m\u001b[1;33m\u001b[0m\u001b[1;33m\u001b[0m\u001b[0m\n",
      "\u001b[1;32m~\\anaconda3\\lib\\site-packages\\pandas\\io\\excel\\_xlrd.py\u001b[0m in \u001b[0;36mload_workbook\u001b[1;34m(self, filepath_or_buffer)\u001b[0m\n\u001b[0;32m     34\u001b[0m             \u001b[1;32mreturn\u001b[0m \u001b[0mopen_workbook\u001b[0m\u001b[1;33m(\u001b[0m\u001b[0mfile_contents\u001b[0m\u001b[1;33m=\u001b[0m\u001b[0mdata\u001b[0m\u001b[1;33m)\u001b[0m\u001b[1;33m\u001b[0m\u001b[1;33m\u001b[0m\u001b[0m\n\u001b[0;32m     35\u001b[0m         \u001b[1;32melse\u001b[0m\u001b[1;33m:\u001b[0m\u001b[1;33m\u001b[0m\u001b[1;33m\u001b[0m\u001b[0m\n\u001b[1;32m---> 36\u001b[1;33m             \u001b[1;32mreturn\u001b[0m \u001b[0mopen_workbook\u001b[0m\u001b[1;33m(\u001b[0m\u001b[0mfilepath_or_buffer\u001b[0m\u001b[1;33m)\u001b[0m\u001b[1;33m\u001b[0m\u001b[1;33m\u001b[0m\u001b[0m\n\u001b[0m\u001b[0;32m     37\u001b[0m \u001b[1;33m\u001b[0m\u001b[0m\n\u001b[0;32m     38\u001b[0m     \u001b[1;33m@\u001b[0m\u001b[0mproperty\u001b[0m\u001b[1;33m\u001b[0m\u001b[1;33m\u001b[0m\u001b[0m\n",
      "\u001b[1;32m~\\anaconda3\\lib\\site-packages\\xlrd\\__init__.py\u001b[0m in \u001b[0;36mopen_workbook\u001b[1;34m(filename, logfile, verbosity, use_mmap, file_contents, encoding_override, formatting_info, on_demand, ragged_rows)\u001b[0m\n\u001b[0;32m    109\u001b[0m     \u001b[1;32melse\u001b[0m\u001b[1;33m:\u001b[0m\u001b[1;33m\u001b[0m\u001b[1;33m\u001b[0m\u001b[0m\n\u001b[0;32m    110\u001b[0m         \u001b[0mfilename\u001b[0m \u001b[1;33m=\u001b[0m \u001b[0mos\u001b[0m\u001b[1;33m.\u001b[0m\u001b[0mpath\u001b[0m\u001b[1;33m.\u001b[0m\u001b[0mexpanduser\u001b[0m\u001b[1;33m(\u001b[0m\u001b[0mfilename\u001b[0m\u001b[1;33m)\u001b[0m\u001b[1;33m\u001b[0m\u001b[1;33m\u001b[0m\u001b[0m\n\u001b[1;32m--> 111\u001b[1;33m         \u001b[1;32mwith\u001b[0m \u001b[0mopen\u001b[0m\u001b[1;33m(\u001b[0m\u001b[0mfilename\u001b[0m\u001b[1;33m,\u001b[0m \u001b[1;34m\"rb\"\u001b[0m\u001b[1;33m)\u001b[0m \u001b[1;32mas\u001b[0m \u001b[0mf\u001b[0m\u001b[1;33m:\u001b[0m\u001b[1;33m\u001b[0m\u001b[1;33m\u001b[0m\u001b[0m\n\u001b[0m\u001b[0;32m    112\u001b[0m             \u001b[0mpeek\u001b[0m \u001b[1;33m=\u001b[0m \u001b[0mf\u001b[0m\u001b[1;33m.\u001b[0m\u001b[0mread\u001b[0m\u001b[1;33m(\u001b[0m\u001b[0mpeeksz\u001b[0m\u001b[1;33m)\u001b[0m\u001b[1;33m\u001b[0m\u001b[1;33m\u001b[0m\u001b[0m\n\u001b[0;32m    113\u001b[0m     \u001b[1;32mif\u001b[0m \u001b[0mpeek\u001b[0m \u001b[1;33m==\u001b[0m \u001b[1;34mb\"PK\\x03\\x04\"\u001b[0m\u001b[1;33m:\u001b[0m \u001b[1;31m# a ZIP file\u001b[0m\u001b[1;33m\u001b[0m\u001b[1;33m\u001b[0m\u001b[0m\n",
      "\u001b[1;31mFileNotFoundError\u001b[0m: [Errno 2] No such file or directory: 'C:\\\\Python\\\\Project\\\\Covid-19\\\\Covid cases in India.xlsx'"
     ]
    }
   ],
   "source": [
    "df= pd.read_excel(r\"C:\\Python\\Project\\Covid-19\\Covid cases in India.xlsx\")"
   ]
  },
  {
   "cell_type": "code",
   "execution_count": null,
   "metadata": {},
   "outputs": [],
   "source": [
    "df"
   ]
  },
  {
   "cell_type": "code",
   "execution_count": null,
   "metadata": {},
   "outputs": [],
   "source": [
    "#Drop unwanted cell or column \n",
    "\n",
    "df.drop(['S. No.'],axis=1,)"
   ]
  },
  {
   "cell_type": "code",
   "execution_count": null,
   "metadata": {},
   "outputs": [],
   "source": [
    "#Adding a new column with total cases include national and migrant\n",
    "\n",
    "df['Total cases']=df['Total Confirmed cases (Indian National)']+df['Total Confirmed cases ( Foreign National )']"
   ]
  },
  {
   "cell_type": "code",
   "execution_count": null,
   "metadata": {},
   "outputs": [],
   "source": [
    "total_cases_overall=df['Total cases'].sum()\n",
    "print(\"Total number cases of India till now: \",total_cases_overall)"
   ]
  },
  {
   "cell_type": "code",
   "execution_count": null,
   "metadata": {},
   "outputs": [],
   "source": [
    "df['Active Cases']=df['Total cases']-(df['Cured']+df['Death'])"
   ]
  },
  {
   "cell_type": "code",
   "execution_count": null,
   "metadata": {},
   "outputs": [],
   "source": [
    "df"
   ]
  },
  {
   "cell_type": "code",
   "execution_count": null,
   "metadata": {},
   "outputs": [],
   "source": [
    "df.style.background_gradient(cmap='Reds')"
   ]
  },
  {
   "cell_type": "code",
   "execution_count": null,
   "metadata": {},
   "outputs": [],
   "source": [
    "Total_Active_cases=df.groupby('Name of State / UT')['Active Cases'].sum().sort_values(ascending=False).to_frame()"
   ]
  },
  {
   "cell_type": "code",
   "execution_count": null,
   "metadata": {},
   "outputs": [],
   "source": [
    "Total_Active_cases.style.background_gradient(cmap='Reds')"
   ]
  },
  {
   "cell_type": "code",
   "execution_count": null,
   "metadata": {},
   "outputs": [],
   "source": [
    "#------------------------------------Graphical Representation-----------------------------------\n",
    "#------------------Pandas Visulaisation\n",
    "df.plot(kind='bar',x='Name of State / UT',y='Total cases')\n",
    "plt.show()\n",
    "\n",
    "#Plotly\n",
    "df.iplot(kind='bar',x='Name of State / UT',y='Total cases')"
   ]
  },
  {
   "cell_type": "code",
   "execution_count": null,
   "metadata": {},
   "outputs": [],
   "source": [
    "#-----------------matploylib Visualisation\n",
    "plt.bar(df['Name of State / UT'],df['Total cases'])"
   ]
  },
  {
   "cell_type": "code",
   "execution_count": null,
   "metadata": {},
   "outputs": [],
   "source": [
    "px.bar(df,x='Name of State / UT',y='Total cases')"
   ]
  },
  {
   "cell_type": "code",
   "execution_count": null,
   "metadata": {},
   "outputs": [],
   "source": [
    "#Scatter plot using pandas\n",
    "df.plot(kind='scatter',x='Name of State / UT',y='Total cases')"
   ]
  },
  {
   "cell_type": "code",
   "execution_count": null,
   "metadata": {},
   "outputs": [],
   "source": [
    "#Scatter plot using matplotlib\n",
    "plt.scatter(df['Name of State / UT'],df['Total cases'])"
   ]
  },
  {
   "cell_type": "code",
   "execution_count": null,
   "metadata": {},
   "outputs": [],
   "source": [
    "df.iplot(kind='scatter',x='Name of State / UT',y='Total cases',mode='markers+lines',xTitle='Name of State / UT',yTitle='Total cases',colors='blue',size=20)\n",
    "px.scatter(df,x='Name of State / UT',y='Total cases')"
   ]
  },
  {
   "cell_type": "code",
   "execution_count": null,
   "metadata": {},
   "outputs": [],
   "source": [
    "#Bar graph using matplotlib\n",
    "fig=plt.figure()\n",
    "axes=fig.add_axes([0,0,1,1])\n",
    "axes.bar(df['Name of State / UT'],df['Total cases'])\n",
    "axes.set_title(\"Total cases in India\")\n",
    "axes.set_xlabel('Name of State / UT')\n",
    "axes.set_ylabel('Total cases')\n",
    "plt.show()\n",
    "\n",
    "#Plotly\n",
    "fig=go.Figure()\n",
    "fig.add_trace(go.Bar(x=df['Name of State / UT'],y=df['Total cases']))\n",
    "fig.update_layout(title=\"Total cases in India\",xaxis=dict(title='Name of State / UT'),yaxis=dict(title='Total cases'))"
   ]
  },
  {
   "cell_type": "code",
   "execution_count": null,
   "metadata": {},
   "outputs": [],
   "source": [
    "#Import Indian cordinate excel file\n",
    "Indian_Cord=pd.read_excel(r\"C:\\Python\\Project\\Covid-19\\Indian Coordinates.xlsx\")"
   ]
  },
  {
   "cell_type": "code",
   "execution_count": null,
   "metadata": {},
   "outputs": [],
   "source": [
    "Indian_Cord"
   ]
  },
  {
   "cell_type": "code",
   "execution_count": null,
   "metadata": {},
   "outputs": [],
   "source": [
    "df_full=pd.merge(Indian_Cord,df,on='Name of State / UT')"
   ]
  },
  {
   "cell_type": "code",
   "execution_count": null,
   "metadata": {},
   "outputs": [],
   "source": [
    "df_full"
   ]
  },
  {
   "cell_type": "code",
   "execution_count": null,
   "metadata": {},
   "outputs": [],
   "source": [
    "df.drop(['S. No.'],axis=1)"
   ]
  },
  {
   "cell_type": "code",
   "execution_count": null,
   "metadata": {},
   "outputs": [],
   "source": [
    "map=folium.Map(location=[20,70],zoom_start=4,tiles='Stamen Terrain')\n",
    "\n",
    "for lat,long,value, name in zip(df_full['Latitude'],df_full['Longitude'],df_full['Total cases'],df_full['Name of State / UT']):\n",
    "    folium.CircleMarker([lat,long],radius=12,popup=('<strong>State</strong>: '+str(name).capitalize()+'<br>''<strong>Total cases</strong>: ' + str(value)+ '<br>'),color='red',fill_color='red',fill_opacity=0).add_to(map)"
   ]
  },
  {
   "cell_type": "code",
   "execution_count": null,
   "metadata": {},
   "outputs": [],
   "source": [
    "map"
   ]
  },
  {
   "cell_type": "code",
   "execution_count": null,
   "metadata": {},
   "outputs": [],
   "source": [
    "#How corona virus is rising globaly\n",
    "db_India=pd.read_excel(r\"C:\\Python\\Project\\Covid-19\\per_day_cases.xlsx\",parse_dates=True,sheet_name=\"India\")\n",
    "db_Italy=pd.read_excel(r\"C:\\Python\\Project\\Covid-19\\per_day_cases.xlsx\", parse_dates=True,sheet_name=\"Italy\")\n",
    "db_Wuhan=pd.read_excel(r\"C:\\Python\\Project\\Covid-19\\per_day_cases.xlsx\", parse_dates=True,sheet_name=\"Wuhan\")\n",
    "db_Korea=pd.read_excel(r\"C:\\Python\\Project\\Covid-19\\per_day_cases.xlsx\", parse_dates=True,sheet_name=\"Korea\")\n"
   ]
  },
  {
   "cell_type": "code",
   "execution_count": null,
   "metadata": {},
   "outputs": [],
   "source": [
    "db_India"
   ]
  },
  {
   "cell_type": "code",
   "execution_count": null,
   "metadata": {},
   "outputs": [],
   "source": [
    "#Matplotlib\n",
    "fig=plt.figure(figsize=(10,5),dpi=200)\n",
    "axes=fig.add_axes([0.1,0.1,0.8,0.8])\n",
    "axes.bar(db_India[\"Date\"],db_India[\"Total Cases\"],color='blue')\n",
    "axes.set_xlabel(\"Date\")\n",
    "axes.set_ylabel(\"Total Cases\")\n",
    "axes.set_title(\"Confirmed cases in India\")\n",
    "plt.show()\n",
    "\n",
    "#Plotly bar express\n",
    "fig=px.bar(db_India,x=\"Date\",y=\"Total Cases\",color=\"Total Cases\",title=\"Confirmed cases in India\")\n",
    "fig.show()"
   ]
  },
  {
   "cell_type": "code",
   "execution_count": null,
   "metadata": {},
   "outputs": [],
   "source": [
    "fig=px.bar(db_India,x=\"Date\",y=\"Total Cases\",color=\"Total Cases\",title=\"Confirmed cases in India\")\n",
    "fig.show()\n",
    "\n",
    "fig=px.bar(db_Italy,x=\"Date\",y=\"Total Cases\",color=\"Total Cases\",title=\"Confirmed cases in Italy\")\n",
    "fig.show()\n",
    "\n",
    "fig=px.bar(db_Wuhan,x=\"Date\",y=\"Total Cases\",color=\"Total Cases\",title=\"Confirmed cases in Wuhan\")\n",
    "fig.show()\n",
    "\n",
    "fig=px.bar(db_Korea,x=\"Date\",y=\"Total Cases\",color=\"Total Cases\",title=\"Confirmed cases in Korea\")\n",
    "fig.show()"
   ]
  },
  {
   "cell_type": "code",
   "execution_count": null,
   "metadata": {},
   "outputs": [],
   "source": [
    "db_India.iplot(kind='scatter',x='Date',y='Total Cases',mode='lines+markers')"
   ]
  },
  {
   "cell_type": "code",
   "execution_count": null,
   "metadata": {},
   "outputs": [],
   "source": [
    "fig=go.Figure()\n",
    "fig.add_trace(go.Scatter(x=db_India['Date'],y=db_India['Total Cases'], mode='lines+markers'))"
   ]
  },
  {
   "cell_type": "code",
   "execution_count": null,
   "metadata": {},
   "outputs": [],
   "source": [
    "from plotly.subplots import make_subplots"
   ]
  },
  {
   "cell_type": "code",
   "execution_count": null,
   "metadata": {},
   "outputs": [],
   "source": [
    "#Sub Plots using bar graph\n",
    "fig=make_subplots(rows=2,cols=2,\n",
    "                 specs=[[{\"secondary_y\":True},{\"secondary_y\":True}],[{\"secondary_y\":True},{\"secondary_y\":True}]],\n",
    "                subplot_titles=(\"S.Korea\",\"India\",\"Italy\",\"Wuhan\"))\n",
    "\n",
    "fig.add_trace(go.Bar(x=db_Korea['Date'],y=db_Korea['Total Cases'],\n",
    "                      marker=dict(color=db_Korea['Total Cases'],coloraxis=\"coloraxis\")),1,1)\n",
    "\n",
    "fig.add_trace(go.Bar(x=db_India['Date'],y=db_India['Total Cases'],\n",
    "                     marker=dict(color=db_India['Total Cases'],coloraxis=\"coloraxis\")),1,2)\n",
    "\n",
    "fig.add_trace(go.Bar(x=db_Italy['Date'],y=db_Italy['Total Cases'],\n",
    "                     marker=dict(color=db_Italy['Total Cases'],coloraxis=\"coloraxis\")),2,1)\n",
    "\n",
    "fig.add_trace(go.Bar(x=db_Wuhan['Date'],y=db_Wuhan['Total Cases'],\n",
    "                     marker=dict(color=db_Wuhan['Total Cases'],coloraxis=\"coloraxis\")),2,2)\n",
    "\n",
    "\n",
    "fig.update_layout(coloraxis=dict(colorscale='Bluered_r'),showlegend=False,title_text=\"Total Cases in 4 Countries\")\n",
    "\n",
    "fig.update_layout(plot_bgcolor='rgb(230,230,230)')"
   ]
  },
  {
   "cell_type": "code",
   "execution_count": null,
   "metadata": {},
   "outputs": [],
   "source": [
    "#World map coronavirus\n",
    "\n",
    "df=pd.read_excel(r\"C:\\Python\\Project\\Covid-19\\covid_19_data.xlsx\")"
   ]
  },
  {
   "cell_type": "code",
   "execution_count": null,
   "metadata": {},
   "outputs": [],
   "source": [
    "df"
   ]
  },
  {
   "cell_type": "code",
   "execution_count": null,
   "metadata": {},
   "outputs": [],
   "source": [
    "df.query('Country==\"United Kingdom\"')"
   ]
  },
  {
   "cell_type": "code",
   "execution_count": null,
   "metadata": {},
   "outputs": [],
   "source": [
    "df.groupby('Date').sum()"
   ]
  },
  {
   "cell_type": "code",
   "execution_count": null,
   "metadata": {},
   "outputs": [],
   "source": [
    "confirmed=df.groupby('Date').sum()['Confirmed'].reset_index()\n",
    "death=df.groupby('Date').sum()['Deaths'].reset_index()\n",
    "rec=df.groupby('Date').sum()['Recovered'].reset_index()"
   ]
  },
  {
   "cell_type": "code",
   "execution_count": null,
   "metadata": {},
   "outputs": [],
   "source": [
    "confirmed"
   ]
  },
  {
   "cell_type": "code",
   "execution_count": null,
   "metadata": {},
   "outputs": [],
   "source": [
    "rec"
   ]
  },
  {
   "cell_type": "code",
   "execution_count": null,
   "metadata": {},
   "outputs": [],
   "source": [
    "death"
   ]
  },
  {
   "cell_type": "code",
   "execution_count": null,
   "metadata": {},
   "outputs": [],
   "source": [
    "fig=go.Figure()\n",
    "fig.add_trace(go.Scatter(x=confirmed['Date'],y=confirmed['Confirmed'],mode='lines+markers',name='Confirmed',line=dict(color='blue',width=2)))\n",
    "\n",
    "fig.add_trace(go.Scatter(x=death['Date'],y=death['Deaths'],mode='lines+markers',name='Deaths',line=dict(color='red',width=2)))\n",
    "fig.add_trace(go.Scatter(x=rec['Date'],y=rec['Recovered'],mode='lines+markers',name='Recovered',line=dict(color='green',width=2)))"
   ]
  },
  {
   "cell_type": "code",
   "execution_count": null,
   "metadata": {},
   "outputs": [],
   "source": [
    "df_confirmed=pd.read_csv(r\"C:\\Python\\Project\\Covid-19\\time_series_covid_19_confirmed.csv\")"
   ]
  },
  {
   "cell_type": "code",
   "execution_count": null,
   "metadata": {},
   "outputs": [],
   "source": [
    "df_confirmed"
   ]
  },
  {
   "cell_type": "code",
   "execution_count": null,
   "metadata": {},
   "outputs": [],
   "source": [
    "df_confirmed.rename(columns={'Country/Region':'Country'},inplace=True)"
   ]
  },
  {
   "cell_type": "code",
   "execution_count": null,
   "metadata": {},
   "outputs": [],
   "source": [
    "df_latlong=pd.merge(df,df_confirmed,on=['Country','Province/State'])"
   ]
  },
  {
   "cell_type": "code",
   "execution_count": null,
   "metadata": {},
   "outputs": [],
   "source": [
    "df_latlong"
   ]
  },
  {
   "cell_type": "code",
   "execution_count": null,
   "metadata": {},
   "outputs": [],
   "source": [
    "#fig=px.density_mapbox(df_latlong,lat=\"Lat\",lon=\"Long\",hover_name=\"Province/State\",hover_data=[\"Confirmed\",\"Deaths\",\"Recovered\"],animation_frame=\"Date\",color_continuous_scale=\"Portland\",radius=7,zoom=0,height=700)\n",
    "\n",
    "#fig.update_layout(title='Worldwide Corona Virus Cases')#\n",
    "#fig.update_layout(mapbox_style=\"open-street-map\",mapbox_center_lon=0)\n",
    "#fig.update_layout(margin={\"r\":0,\"t\":0,\"l\":0,\"b\":0})\n"
   ]
  },
  {
   "cell_type": "code",
   "execution_count": 4,
   "metadata": {
    "collapsed": true
   },
   "outputs": [
    {
     "name": "stdout",
     "output_type": "stream",
     "text": [
      "Collecting package metadata (current_repodata.json): ...working... done\n",
      "Solving environment: ...working... done\n",
      "\n",
      "## Package Plan ##\n",
      "\n",
      "  environment location: C:\\Users\\Admin\\anaconda3\n",
      "\n",
      "  added / updated specs:\n",
      "    - cufflinks-py\n",
      "\n",
      "\n",
      "The following packages will be downloaded:\n",
      "\n",
      "    package                    |            build\n",
      "    ---------------------------|-----------------\n",
      "    chart-studio-1.1.0         |     pyh9f0ad1d_0          51 KB  conda-forge\n",
      "    colorlover-0.3.0           |             py_0          12 KB  conda-forge\n",
      "    cufflinks-py-0.17.3        |             py_0           4 KB  conda-forge\n",
      "    python-cufflinks-0.17.3    |             py_0          59 KB  conda-forge\n",
      "    ------------------------------------------------------------\n",
      "                                           Total:         125 KB\n",
      "\n",
      "The following NEW packages will be INSTALLED:\n",
      "\n",
      "  chart-studio       conda-forge/noarch::chart-studio-1.1.0-pyh9f0ad1d_0\n",
      "  colorlover         conda-forge/noarch::colorlover-0.3.0-py_0\n",
      "  cufflinks-py       conda-forge/noarch::cufflinks-py-0.17.3-py_0\n",
      "  python-cufflinks   conda-forge/noarch::python-cufflinks-0.17.3-py_0\n",
      "\n",
      "\n",
      "\n",
      "Downloading and Extracting Packages\n",
      "\n",
      "python-cufflinks-0.1 | 59 KB     |            |   0% \n",
      "python-cufflinks-0.1 | 59 KB     | ##7        |  27% \n",
      "python-cufflinks-0.1 | 59 KB     | ########## | 100% \n",
      "\n",
      "colorlover-0.3.0     | 12 KB     |            |   0% \n",
      "colorlover-0.3.0     | 12 KB     | ########## | 100% \n",
      "\n",
      "cufflinks-py-0.17.3  | 4 KB      |            |   0% \n",
      "cufflinks-py-0.17.3  | 4 KB      | ########## | 100% \n",
      "\n",
      "chart-studio-1.1.0   | 51 KB     |            |   0% \n",
      "chart-studio-1.1.0   | 51 KB     | ###1       |  32% \n",
      "chart-studio-1.1.0   | 51 KB     | ########## | 100% \n",
      "Preparing transaction: ...working... done\n",
      "Verifying transaction: ...working... done\n",
      "Executing transaction: ...working... done\n",
      "\n",
      "Note: you may need to restart the kernel to use updated packages.\n"
     ]
    }
   ],
   "source": [
    "conda install -c conda-forge cufflinks-py"
   ]
  },
  {
   "cell_type": "code",
   "execution_count": 2,
   "metadata": {
    "collapsed": true
   },
   "outputs": [
    {
     "name": "stdout",
     "output_type": "stream",
     "text": [
      "Collecting package metadata (current_repodata.json): ...working... done\n",
      "Solving environment: ...working... failed with initial frozen solve. Retrying with flexible solve.\n",
      "Solving environment: ...working... failed with repodata from current_repodata.json, will retry with next repodata source.\n",
      "Collecting package metadata (repodata.json): ...working... done\n",
      "Solving environment: ...working... failed with initial frozen solve. Retrying with flexible solve.\n",
      "Solving environment: ...working... done\n",
      "\n",
      "## Package Plan ##\n",
      "\n",
      "  environment location: C:\\Users\\Admin\\anaconda3\n",
      "\n",
      "  added / updated specs:\n",
      "    - plotly\n",
      "\n",
      "\n",
      "The following packages will be downloaded:\n",
      "\n",
      "    package                    |            build\n",
      "    ---------------------------|-----------------\n",
      "    conda-4.8.3                |           py37_0         2.8 MB\n",
      "    jupyterlab-1.2.6           |     pyhf63ae98_0         2.8 MB\n",
      "    liblief-0.9.0              |       ha925a31_2         4.0 MB\n",
      "    plotly-4.8.1               |             py_0         4.7 MB  plotly\n",
      "    py-lief-0.9.0              |   py37ha925a31_2         1.6 MB\n",
      "    qtconsole-4.6.0            |             py_1          97 KB\n",
      "    retrying-1.3.3             |           py37_2          16 KB\n",
      "    ------------------------------------------------------------\n",
      "                                           Total:        16.0 MB\n",
      "\n",
      "The following NEW packages will be INSTALLED:\n",
      "\n",
      "  plotly             plotly/noarch::plotly-4.8.1-py_0\n",
      "  retrying           pkgs/main/win-32::retrying-1.3.3-py37_2\n",
      "\n",
      "The following packages will be UPDATED:\n",
      "\n",
      "  conda                                        4.8.2-py37_0 --> 4.8.3-py37_0\n",
      "  jupyterlab         pkgs/main/win-32::jupyterlab-1.0.2-py~ --> pkgs/main/noarch::jupyterlab-1.2.6-pyhf63ae98_0\n",
      "\n",
      "The following packages will be SUPERSEDED by a higher-priority channel:\n",
      "\n",
      "  qtconsole          pkgs/main/win-32::qtconsole-4.6.0-py3~ --> pkgs/main/noarch::qtconsole-4.6.0-py_1\n",
      "\n",
      "The following packages will be DOWNGRADED:\n",
      "\n",
      "  liblief                                  0.9.0-ha925a31_3 --> 0.9.0-ha925a31_2\n",
      "  py-lief                              0.9.0-py37ha925a31_3 --> 0.9.0-py37ha925a31_2\n",
      "\n",
      "\n",
      "\n",
      "Downloading and Extracting Packages\n",
      "\n",
      "liblief-0.9.0        | 4.0 MB    |            |   0% \n",
      "liblief-0.9.0        | 4.0 MB    |            |   0% \n",
      "liblief-0.9.0        | 4.0 MB    | 2          |   2% \n",
      "liblief-0.9.0        | 4.0 MB    | 3          |   4% \n",
      "liblief-0.9.0        | 4.0 MB    | 7          |   8% \n",
      "liblief-0.9.0        | 4.0 MB    | #3         |  14% \n",
      "liblief-0.9.0        | 4.0 MB    | #6         |  17% \n",
      "liblief-0.9.0        | 4.0 MB    | ##3        |  23% \n",
      "liblief-0.9.0        | 4.0 MB    | ##6        |  27% \n",
      "liblief-0.9.0        | 4.0 MB    | ###1       |  32% \n",
      "liblief-0.9.0        | 4.0 MB    | ###7       |  38% \n",
      "liblief-0.9.0        | 4.0 MB    | ####3      |  43% \n",
      "liblief-0.9.0        | 4.0 MB    | ####7      |  48% \n",
      "liblief-0.9.0        | 4.0 MB    | #####3     |  53% \n",
      "liblief-0.9.0        | 4.0 MB    | #####8     |  58% \n",
      "liblief-0.9.0        | 4.0 MB    | ######2    |  62% \n",
      "liblief-0.9.0        | 4.0 MB    | #######    |  70% \n",
      "liblief-0.9.0        | 4.0 MB    | #######5   |  76% \n",
      "liblief-0.9.0        | 4.0 MB    | ########1  |  82% \n",
      "liblief-0.9.0        | 4.0 MB    | ########9  |  90% \n",
      "liblief-0.9.0        | 4.0 MB    | #########8 |  98% \n",
      "liblief-0.9.0        | 4.0 MB    | ########## | 100% \n",
      "\n",
      "jupyterlab-1.2.6     | 2.8 MB    |            |   0% \n",
      "jupyterlab-1.2.6     | 2.8 MB    |            |   1% \n",
      "jupyterlab-1.2.6     | 2.8 MB    | #          |  11% \n",
      "jupyterlab-1.2.6     | 2.8 MB    | #9         |  20% \n",
      "jupyterlab-1.2.6     | 2.8 MB    | ##6        |  26% \n",
      "jupyterlab-1.2.6     | 2.8 MB    | ###8       |  39% \n",
      "jupyterlab-1.2.6     | 2.8 MB    | #####3     |  54% \n",
      "jupyterlab-1.2.6     | 2.8 MB    | ######4    |  64% \n",
      "jupyterlab-1.2.6     | 2.8 MB    | #######4   |  75% \n",
      "jupyterlab-1.2.6     | 2.8 MB    | ########5  |  85% \n",
      "jupyterlab-1.2.6     | 2.8 MB    | ########## | 100% \n",
      "\n",
      "retrying-1.3.3       | 16 KB     |            |   0% \n",
      "retrying-1.3.3       | 16 KB     | #########9 | 100% \n",
      "retrying-1.3.3       | 16 KB     | ########## | 100% \n",
      "\n",
      "py-lief-0.9.0        | 1.6 MB    |            |   0% \n",
      "py-lief-0.9.0        | 1.6 MB    |            |   1% \n",
      "py-lief-0.9.0        | 1.6 MB    | #7         |  17% \n",
      "py-lief-0.9.0        | 1.6 MB    | ##6        |  26% \n",
      "py-lief-0.9.0        | 1.6 MB    | ###2       |  33% \n",
      "py-lief-0.9.0        | 1.6 MB    | ###8       |  39% \n",
      "py-lief-0.9.0        | 1.6 MB    | ####3      |  44% \n",
      "py-lief-0.9.0        | 1.6 MB    | #####4     |  54% \n",
      "py-lief-0.9.0        | 1.6 MB    | ######3    |  64% \n",
      "py-lief-0.9.0        | 1.6 MB    | ########3  |  83% \n",
      "py-lief-0.9.0        | 1.6 MB    | ########## | 100% \n",
      "\n",
      "plotly-4.8.1         | 4.7 MB    |            |   0% \n",
      "plotly-4.8.1         | 4.7 MB    |            |   0% \n",
      "plotly-4.8.1         | 4.7 MB    |            |   1% \n",
      "plotly-4.8.1         | 4.7 MB    | 2          |   2% \n",
      "plotly-4.8.1         | 4.7 MB    | 3          |   4% \n",
      "plotly-4.8.1         | 4.7 MB    | 4          |   5% \n",
      "plotly-4.8.1         | 4.7 MB    | 6          |   7% \n",
      "plotly-4.8.1         | 4.7 MB    | 8          |   8% \n",
      "plotly-4.8.1         | 4.7 MB    | #          |  10% \n",
      "plotly-4.8.1         | 4.7 MB    | #2         |  13% \n",
      "plotly-4.8.1         | 4.7 MB    | #7         |  18% \n",
      "plotly-4.8.1         | 4.7 MB    | #9         |  20% \n",
      "plotly-4.8.1         | 4.7 MB    | ##5        |  25% \n",
      "plotly-4.8.1         | 4.7 MB    | ##7        |  27% \n",
      "plotly-4.8.1         | 4.7 MB    | ###1       |  32% \n",
      "plotly-4.8.1         | 4.7 MB    | ###4       |  34% \n",
      "plotly-4.8.1         | 4.7 MB    | ###9       |  39% \n",
      "plotly-4.8.1         | 4.7 MB    | ####2      |  42% \n",
      "plotly-4.8.1         | 4.7 MB    | ####7      |  47% \n",
      "plotly-4.8.1         | 4.7 MB    | #####      |  51% \n",
      "plotly-4.8.1         | 4.7 MB    | #####4     |  55% \n",
      "plotly-4.8.1         | 4.7 MB    | #####8     |  58% \n",
      "plotly-4.8.1         | 4.7 MB    | ######1    |  61% \n",
      "plotly-4.8.1         | 4.7 MB    | ######4    |  65% \n",
      "plotly-4.8.1         | 4.7 MB    | ######9    |  69% \n",
      "plotly-4.8.1         | 4.7 MB    | #######2   |  72% \n",
      "plotly-4.8.1         | 4.7 MB    | #######5   |  75% \n",
      "plotly-4.8.1         | 4.7 MB    | #######9   |  79% \n",
      "plotly-4.8.1         | 4.7 MB    | ########2  |  83% \n",
      "plotly-4.8.1         | 4.7 MB    | ########6  |  86% \n",
      "plotly-4.8.1         | 4.7 MB    | ########9  |  90% \n",
      "plotly-4.8.1         | 4.7 MB    | #########2 |  93% \n",
      "plotly-4.8.1         | 4.7 MB    | #########6 |  96% \n",
      "plotly-4.8.1         | 4.7 MB    | ########## | 100% \n",
      "\n",
      "conda-4.8.3          | 2.8 MB    |            |   0% \n",
      "conda-4.8.3          | 2.8 MB    |            |   1% \n",
      "conda-4.8.3          | 2.8 MB    | #3         |  13% \n",
      "conda-4.8.3          | 2.8 MB    | ##2        |  23% \n",
      "conda-4.8.3          | 2.8 MB    | ###5       |  35% \n",
      "conda-4.8.3          | 2.8 MB    | ####2      |  43% \n",
      "conda-4.8.3          | 2.8 MB    | #####      |  50% \n",
      "conda-4.8.3          | 2.8 MB    | #########8 |  99% \n",
      "conda-4.8.3          | 2.8 MB    | ########## | 100% \n",
      "\n",
      "qtconsole-4.6.0      | 97 KB     |            |   0% \n",
      "qtconsole-4.6.0      | 97 KB     | #6         |  17% \n",
      "qtconsole-4.6.0      | 97 KB     | ########## | 100% \n",
      "Preparing transaction: ...working... done\n",
      "Verifying transaction: ...working... done\n",
      "Executing transaction: ...working... done\n",
      "\n",
      "Note: you may need to restart the kernel to use updated packages.\n"
     ]
    }
   ],
   "source": [
    "conda install -c plotly plotly"
   ]
  },
  {
   "cell_type": "code",
   "execution_count": 1,
   "metadata": {},
   "outputs": [
    {
     "name": "stdout",
     "output_type": "stream",
     "text": [
      "Collecting package metadata (current_repodata.json): ...working... done\n",
      "Solving environment: ...working... done\n",
      "\n",
      "## Package Plan ##\n",
      "\n",
      "  environment location: C:\\Users\\Admin\\anaconda3\n",
      "\n",
      "  added / updated specs:\n",
      "    - folium\n",
      "\n",
      "\n",
      "The following packages will be downloaded:\n",
      "\n",
      "    package                    |            build\n",
      "    ---------------------------|-----------------\n",
      "    branca-0.4.1               |             py_0          26 KB  conda-forge\n",
      "    folium-0.11.0              |             py_0          61 KB  conda-forge\n",
      "    ------------------------------------------------------------\n",
      "                                           Total:          87 KB\n",
      "\n",
      "The following NEW packages will be INSTALLED:\n",
      "\n",
      "  branca             conda-forge/noarch::branca-0.4.1-py_0\n",
      "  folium             conda-forge/noarch::folium-0.11.0-py_0\n",
      "\n",
      "\n",
      "\n",
      "Downloading and Extracting Packages\n",
      "\n",
      "folium-0.11.0        | 61 KB     |            |   0% \n",
      "folium-0.11.0        | 61 KB     | ##6        |  26% \n",
      "folium-0.11.0        | 61 KB     | ########## | 100% \n",
      "\n",
      "branca-0.4.1         | 26 KB     |            |   0% \n",
      "branca-0.4.1         | 26 KB     | ########## | 100% \n",
      "Preparing transaction: ...working... done\n",
      "Verifying transaction: ...working... done\n",
      "Executing transaction: ...working... done\n",
      "\n",
      "Note: you may need to restart the kernel to use updated packages.\n"
     ]
    }
   ],
   "source": [
    "conda install -c conda-forge folium"
   ]
  }
 ],
 "metadata": {
  "kernelspec": {
   "display_name": "Python 3",
   "language": "python",
   "name": "python3"
  },
  "language_info": {
   "codemirror_mode": {
    "name": "ipython",
    "version": 3
   },
   "file_extension": ".py",
   "mimetype": "text/x-python",
   "name": "python",
   "nbconvert_exporter": "python",
   "pygments_lexer": "ipython3",
   "version": "3.7.6"
  }
 },
 "nbformat": 4,
 "nbformat_minor": 4
}
